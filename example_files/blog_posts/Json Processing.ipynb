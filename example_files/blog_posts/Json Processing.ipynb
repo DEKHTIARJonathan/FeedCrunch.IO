{
 "cells": [
  {
   "cell_type": "code",
   "execution_count": 3,
   "metadata": {
    "collapsed": true
   },
   "outputs": [],
   "source": [
    "import pandas as pd\n",
    "import json\n",
    "import requests"
   ]
  },
  {
   "cell_type": "markdown",
   "metadata": {},
   "source": [
    "## Formatting output from \"Session Buddy\""
   ]
  },
  {
   "cell_type": "code",
   "execution_count": 15,
   "metadata": {
    "collapsed": false
   },
   "outputs": [],
   "source": [
    "with open('data.json') as f:\n",
    "    string = \"\"\n",
    "    for line in f:\n",
    "        string += line\n",
    "        \n",
    "data = json.loads(string)\n",
    "df = pd.DataFrame(data[\"tabs\"])"
   ]
  },
  {
   "cell_type": "code",
   "execution_count": 18,
   "metadata": {
    "collapsed": false
   },
   "outputs": [],
   "source": [
    "output_df = df[['title','url']]\n",
    "output_df.insert( 2,'user', \"dataradar\")\n",
    "output_df.insert( 3,'tag1',\"\")\n",
    "output_df.insert( 4,'tag2',\"\")\n",
    "output_df.insert( 5,'tag3',\"\")\n",
    "output_df.insert( 6,'tag4',\"\")\n",
    "output_df.insert( 7,'tag5',\"\")\n",
    "output_df = output_df.drop_duplicates()"
   ]
  },
  {
   "cell_type": "code",
   "execution_count": 19,
   "metadata": {
    "collapsed": true
   },
   "outputs": [],
   "source": [
    "output_df.to_json(\"output.json\", orient=\"records\", force_ascii=False)"
   ]
  },
  {
   "cell_type": "markdown",
   "metadata": {},
   "source": [
    "## Removing Duplicates in consolidated.json File"
   ]
  },
  {
   "cell_type": "code",
   "execution_count": 35,
   "metadata": {
    "collapsed": false
   },
   "outputs": [],
   "source": [
    "with open('consolidated.json') as f:\n",
    "    string = \"\"\n",
    "    for line in f:\n",
    "        string += line\n",
    "        \n",
    "data = json.loads(string)\n",
    "df = pd.DataFrame(data)\n",
    "df = df.drop_duplicates()"
   ]
  },
  {
   "cell_type": "code",
   "execution_count": 36,
   "metadata": {
    "collapsed": false
   },
   "outputs": [],
   "source": [
    "api_route = \"https://www.feedcrunch.io/api/1.0/authenticated/get/article/exists/\"\n",
    "\n",
    "apikey_local = \"91ce86bd-ae46-4250-b599-727c1970b609\"\n",
    "apikey_fc    = \"4377190f-24a5-4ef7-a761-a877bf6218e3\"\n",
    "\n",
    "api_url = api_route + apikey_fc + \"/\"\n",
    "\n",
    "def check_link_exists(url, user):\n",
    "    r = requests.get(api_url+'?link='+url+'&posting_user='+user)\n",
    "    try:\n",
    "        return r.json()[\"exists\"]\n",
    "    except:\n",
    "        return False"
   ]
  },
  {
   "cell_type": "code",
   "execution_count": 37,
   "metadata": {
    "collapsed": false
   },
   "outputs": [],
   "source": [
    "lines_2_delete = []\n",
    "\n",
    "for index in range(df.shape[0]):\n",
    "    \n",
    "    url = df.iloc[index]['url']\n",
    "    user = df.iloc[index]['user']\n",
    "    \n",
    "    if check_link_exists(url, user):\n",
    "        lines_2_delete.append(index)\n",
    "        print 'Duplicate Found: ' + url + \" && user: \" + user"
   ]
  },
  {
   "cell_type": "code",
   "execution_count": 31,
   "metadata": {
    "collapsed": false
   },
   "outputs": [],
   "source": [
    "df.drop(df.index[lines_2_delete], inplace=True)"
   ]
  },
  {
   "cell_type": "code",
   "execution_count": 33,
   "metadata": {
    "collapsed": false
   },
   "outputs": [],
   "source": [
    "df.to_json(\"consolidated.json\", orient=\"records\", force_ascii=False)"
   ]
  }
 ],
 "metadata": {
  "kernelspec": {
   "display_name": "Python 2",
   "language": "python",
   "name": "python2"
  },
  "language_info": {
   "codemirror_mode": {
    "name": "ipython",
    "version": 2
   },
   "file_extension": ".py",
   "mimetype": "text/x-python",
   "name": "python",
   "nbconvert_exporter": "python",
   "pygments_lexer": "ipython2",
   "version": "2.7.11"
  }
 },
 "nbformat": 4,
 "nbformat_minor": 0
}
